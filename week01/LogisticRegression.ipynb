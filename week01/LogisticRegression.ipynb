{
 "cells": [
  {
   "cell_type": "code",
   "execution_count": 1,
   "id": "32d5ffb4-3689-47e3-b119-a4dd51d3d031",
   "metadata": {},
   "outputs": [
    {
     "name": "stdout",
     "output_type": "stream",
     "text": [
      "   SepalLength  SepalWidth  PetalLength  PetalWidth         Name\n",
      "0          5.1         3.5          1.4         0.2  Iris-setosa\n",
      "1          4.9         3.0          1.4         0.2  Iris-setosa\n",
      "2          4.7         3.2          1.3         0.2  Iris-setosa\n",
      "3          4.6         3.1          1.5         0.2  Iris-setosa\n",
      "4          5.0         3.6          1.4         0.2  Iris-setosa\n",
      "Index(['SepalLength', 'SepalWidth', 'PetalLength', 'PetalWidth', 'Name'], dtype='object')\n"
     ]
    }
   ],
   "source": [
    "from sklearn.datasets import load_breast_cancer\n",
    "import pandas as pd\n",
    "import numpy as np\n",
    "import matplotlib.pyplot as plt\n",
    "from sklearn.model_selection import train_test_split\n",
    "from sklearn.preprocessing import StandardScaler, LabelEncoder\n",
    "from sklearn.neighbors import KNeighborsClassifier\n",
    "import seaborn as sns\n",
    "import pandas as pd\n",
    "\n",
    "# 업로드된 파일 경로\n",
    "file_path = \"C:/Users/jinwo/AI/iris.csv\"\n",
    "\n",
    "# CSV 파일 읽기\n",
    "df = pd.read_csv(file_path)\n",
    "\n",
    "# 데이터 확인\n",
    "print(df.head())  # 상위 5개 데이터 확인\n",
    "print(df.columns)  # 컬럼명 확인"
   ]
  },
  {
   "cell_type": "code",
   "execution_count": 3,
   "id": "4aa42dfe-20c5-4d6f-830b-6efa0bf513dc",
   "metadata": {},
   "outputs": [
    {
     "name": "stdout",
     "output_type": "stream",
     "text": [
      "훈련 데이터 크기: (112, 4), 테스트 데이터 크기: (38, 4)\n"
     ]
    }
   ],
   "source": [
    "from sklearn.model_selection import train_test_split\n",
    "from sklearn.preprocessing import LabelEncoder\n",
    "\n",
    "# Name(품종) 컬럼을 숫자로 변환\n",
    "le = LabelEncoder()\n",
    "df[\"Label\"] = le.fit_transform(df[\"Name\"])\n",
    "\n",
    "# 입력(X)와 출력(y) 분리\n",
    "X = df.drop(columns=[\"Name\", \"Label\"])  # 입력값\n",
    "y = df[\"Label\"]  # 타겟값\n",
    "\n",
    "# 데이터 분할 (80% 훈련, 20% 테스트)\n",
    "X_train, X_test, y_train, y_test = train_test_split(X, y, test_size=0.25, random_state=42)\n",
    "\n",
    "# 데이터 크기 확인\n",
    "print(f\"훈련 데이터 크기: {X_train.shape}, 테스트 데이터 크기: {X_test.shape}\")"
   ]
  },
  {
   "cell_type": "code",
   "execution_count": 5,
   "id": "9c9c619b-47c1-4b9c-943f-35e82cc33b85",
   "metadata": {},
   "outputs": [
    {
     "name": "stdout",
     "output_type": "stream",
     "text": [
      "\n",
      "--- Logistic Regression ---\n",
      "Accuracy: 1.0000\n",
      "Confusion Matrix:\n",
      " [[15  0  0]\n",
      " [ 0 11  0]\n",
      " [ 0  0 12]]\n"
     ]
    }
   ],
   "source": [
    "from sklearn.linear_model import LogisticRegression\n",
    "from sklearn.metrics import accuracy_score, confusion_matrix\n",
    "\n",
    "clf_lr = LogisticRegression(max_iter=200, random_state=0)\n",
    "clf_lr.fit(X_train, y_train)\n",
    "pred_lr = clf_lr.predict(X_test)\n",
    "\n",
    "print(\"\\n--- Logistic Regression ---\")\n",
    "print(f\"Accuracy: {accuracy_score(y_test, pred_lr):.4f}\")\n",
    "print(\"Confusion Matrix:\\n\", confusion_matrix(y_test, pred_lr))\n"
   ]
  },
  {
   "cell_type": "code",
   "execution_count": null,
   "id": "579b6ba2-57a6-4c10-9c52-3804baebf133",
   "metadata": {},
   "outputs": [],
   "source": []
  }
 ],
 "metadata": {
  "kernelspec": {
   "display_name": "Python [conda env:base] *",
   "language": "python",
   "name": "conda-base-py"
  },
  "language_info": {
   "codemirror_mode": {
    "name": "ipython",
    "version": 3
   },
   "file_extension": ".py",
   "mimetype": "text/x-python",
   "name": "python",
   "nbconvert_exporter": "python",
   "pygments_lexer": "ipython3",
   "version": "3.12.7"
  }
 },
 "nbformat": 4,
 "nbformat_minor": 5
}
