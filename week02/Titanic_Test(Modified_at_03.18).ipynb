{
 "cells": [
  {
   "cell_type": "code",
   "execution_count": 4,
   "id": "a3382594-d508-4060-8f12-457965b4c3ce",
   "metadata": {},
   "outputs": [],
   "source": [
    "import pandas as pd\n",
    "import numpy as np\n",
    "import matplotlib.pyplot as plt\n",
    "import seaborn as sns\n",
    "from sklearn.model_selection import train_test_split\n",
    "from sklearn.preprocessing import LabelEncoder\n",
    "from sklearn.impute import SimpleImputer\n",
    "from sklearn.ensemble import RandomForestClassifier\n",
    "from sklearn.tree import DecisionTreeClassifier\n",
    "from sklearn.linear_model import LogisticRegression\n",
    "from sklearn.neighbors import KNeighborsClassifier\n",
    "from sklearn.svm import SVC\n",
    "from sklearn.metrics import accuracy_score, confusion_matrix\n",
    "\n",
    "\n",
    "# 데이터 로드\n",
    "df = pd.read_csv(\"C:/Users/jinwo/Downloads/titanic.csv\")"
   ]
  },
  {
   "cell_type": "code",
   "execution_count": 5,
   "id": "bb990212-a06f-42ee-9adc-e9eea99b4aa0",
   "metadata": {},
   "outputs": [
    {
     "name": "stdout",
     "output_type": "stream",
     "text": [
      "컬럼 확인: Index(['PassengerId', 'Survived', 'Pclass', 'Name', 'Sex', 'Age', 'SibSp',\n",
      "       'Parch', 'Ticket', 'Fare', 'Cabin', 'Embarked'],\n",
      "      dtype='object')\n"
     ]
    }
   ],
   "source": [
    "# ==============================\n",
    "# 1. 데이터 확인\n",
    "# ==============================\n",
    "df\n",
    "print(\"컬럼 확인:\", df.columns)"
   ]
  },
  {
   "cell_type": "code",
   "execution_count": 6,
   "id": "d7eb4c6c-f716-4fc7-b798-d4e350b4f9c8",
   "metadata": {},
   "outputs": [
    {
     "name": "stdout",
     "output_type": "stream",
     "text": [
      "\n",
      "=== 결측치 개수 (제거 전) ===\n",
      "PassengerId      0\n",
      "Survived         0\n",
      "Pclass           0\n",
      "Name             0\n",
      "Sex              0\n",
      "Age            177\n",
      "SibSp            0\n",
      "Parch            0\n",
      "Ticket           0\n",
      "Fare             0\n",
      "Cabin          687\n",
      "Embarked         2\n",
      "dtype: int64\n"
     ]
    }
   ],
   "source": [
    "# ==============================\n",
    "# 2. 결측치 확인 (제거 전)\n",
    "# ==============================\n",
    "print(\"\\n=== 결측치 개수 (제거 전) ===\")\n",
    "print(df.isnull().sum())"
   ]
  },
  {
   "cell_type": "code",
   "execution_count": 7,
   "id": "b7a29547-8cbb-4d30-984e-0ee361e7d9e2",
   "metadata": {},
   "outputs": [],
   "source": [
    "# ==============================\n",
    "# 3. 결측치 제거 (Age인 경우 평균 나이로)\n",
    "# ==============================\n",
    "# age 컬럼의 평균값 계산 (결측치를 제외한 값으로 계산)\n",
    "\n",
    "mean_age = df['Age'].mean()\n",
    "\n",
    "# age 컬럼의 결측치를 평균값으로 채우기\n",
    "\n",
    "df['Age'] = df['Age'].fillna(mean_age)\n",
    "\n",
    "# 나머지 결측치 제거\n",
    "df = df.dropna()"
   ]
  },
  {
   "cell_type": "code",
   "execution_count": 8,
   "id": "3182fee6-b51e-4907-9126-196279c47859",
   "metadata": {},
   "outputs": [
    {
     "name": "stdout",
     "output_type": "stream",
     "text": [
      "\n",
      "=== 결측치 개수 (제거 후) ===\n",
      "PassengerId    0\n",
      "Survived       0\n",
      "Pclass         0\n",
      "Name           0\n",
      "Sex            0\n",
      "Age            0\n",
      "SibSp          0\n",
      "Parch          0\n",
      "Ticket         0\n",
      "Fare           0\n",
      "Cabin          0\n",
      "Embarked       0\n",
      "dtype: int64\n"
     ]
    }
   ],
   "source": [
    "# 결측치 확인 (제거 후)\n",
    "print(\"\\n=== 결측치 개수 (제거 후) ===\")\n",
    "print(df.isnull().sum())"
   ]
  },
  {
   "cell_type": "code",
   "execution_count": 14,
   "id": "67a98842-001f-4452-ae98-72542fa702e8",
   "metadata": {},
   "outputs": [
    {
     "name": "stdout",
     "output_type": "stream",
     "text": [
      "\n",
      "=== 레이블 분포 확인 (Survived) ===\n",
      "Survived\n",
      "1    134\n",
      "0     68\n",
      "Name: count, dtype: int64\n"
     ]
    }
   ],
   "source": [
    "# ==============================\n",
    "# 4. 레이블 확인 (imbalanced data)\n",
    "# ==============================\n",
    "print(\"\\n=== 레이블 분포 확인 (Survived) ===\")\n",
    "print(df['Survived'].value_counts())"
   ]
  },
  {
   "cell_type": "code",
   "execution_count": 16,
   "id": "4e59132d-df29-44d4-9be4-2ccf96166112",
   "metadata": {},
   "outputs": [
    {
     "data": {
      "image/png": "[encoded data removed]",
      "text/plain": [
       "<Figure size 640x480 with 1 Axes>"
      ]
     },
     "metadata": {},
     "output_type": "display_data"
    }
   ],
   "source": [
    "# 레이블 시각화\n",
    "sns.countplot(data=df, x=\"Survived\")\n",
    "plt.xlabel(\"Survival\")\n",
    "plt.ylabel(\"Count\")\n",
    "plt.title(\"Survival Count Distribution\")\n",
    "plt.show()"
   ]
  },
  {
   "cell_type": "code",
   "execution_count": 18,
   "id": "782e8e01-d54b-49b8-b9c3-8e705469262a",
   "metadata": {},
   "outputs": [
    {
     "name": "stdout",
     "output_type": "stream",
     "text": [
      "\n",
      "=== 불필요한 컬럼 제거 후 데이터셋 미리보기 ===\n",
      "    Survived  Pclass     Sex   Age  SibSp  Parch     Fare Embarked\n",
      "1          1       1  female  38.0      1      0  71.2833        C\n",
      "3          1       1  female  35.0      1      0  53.1000        S\n",
      "6          0       1    male  54.0      0      0  51.8625        S\n",
      "10         1       3  female   4.0      1      1  16.7000        S\n",
      "11         1       1  female  58.0      0      0  26.5500        S\n"
     ]
    }
   ],
   "source": [
    "# ==============================\n",
    "# 5. 불필요한 컬럼 제거\n",
    "# ==============================\n",
    "columns_to_delete = ['PassengerId', 'Name', 'Ticket', 'Cabin']  # 삭제할 컬럼 리스트\n",
    "df = df.drop(columns=columns_to_delete)\n",
    "\n",
    "print(\"\\n=== 불필요한 컬럼 제거 후 데이터셋 미리보기 ===\")\n",
    "print(df.head())"
   ]
  },
  {
   "cell_type": "code",
   "execution_count": 20,
   "id": "c8fa45cc-4eee-4f4d-ac03-cd44225cd924",
   "metadata": {},
   "outputs": [
    {
     "name": "stdout",
     "output_type": "stream",
     "text": [
      "\n",
      "=== 엔코딩 후 데이터셋 미리보기 ===\n",
      "    Survived  Pclass  Sex   Age  SibSp  Parch     Fare  Embarked\n",
      "1          1       1    0  38.0      1      0  71.2833         0\n",
      "3          1       1    0  35.0      1      0  53.1000         2\n",
      "6          0       1    1  54.0      0      0  51.8625         2\n",
      "10         1       3    0   4.0      1      1  16.7000         2\n",
      "11         1       1    0  58.0      0      0  26.5500         2\n"
     ]
    }
   ],
   "source": [
    "# ==============================\n",
    "# 6. 엔코딩 (숫자로 변환)\n",
    "# ==============================\n",
    "label_encoder = LabelEncoder()\n",
    "columns_to_encode = ['Sex', 'Embarked']  # 인코딩할 컬럼 리스트\n",
    "\n",
    "for column in columns_to_encode:\n",
    "    df[column] = label_encoder.fit_transform(df[column])\n",
    "\n",
    "print(\"\\n=== 엔코딩 후 데이터셋 미리보기 ===\")\n",
    "print(df.head())"
   ]
  },
  {
   "cell_type": "code",
   "execution_count": 22,
   "id": "c356a180-b437-41d0-ab4a-b188f8c89d8c",
   "metadata": {},
   "outputs": [],
   "source": [
    "# ==============================\n",
    "# 7. 데이터 분할\n",
    "# ==============================\n",
    "X = df.drop(columns=['Survived'])\n",
    "y = df['Survived']\n",
    "\n",
    "X_train, X_test, y_train, y_test = train_test_split(X, y, test_size=0.2, random_state=42)"
   ]
  },
  {
   "cell_type": "code",
   "execution_count": 24,
   "id": "a57a58a1-5547-4c88-affd-15259f5e87b0",
   "metadata": {},
   "outputs": [
    {
     "name": "stdout",
     "output_type": "stream",
     "text": [
      "\n",
      "==================================\n",
      "  ACCURACY OF DIFFERENT CLASSIFIERS\n",
      "==================================\n",
      "\n",
      "--- SVM Classifier ---\n",
      "Accuracy: 0.8049\n",
      "Confusion Matrix:\n",
      "[[ 0  8]\n",
      " [ 0 33]]\n"
     ]
    }
   ],
   "source": [
    "# ==============================\n",
    "# 8. 5가지 분류 모델 적용\n",
    "# ==============================\n",
    "\n",
    "print(\"\\n==================================\")\n",
    "print(\"  ACCURACY OF DIFFERENT CLASSIFIERS\")\n",
    "print(\"==================================\")\n",
    "\n",
    "# -------------------\n",
    "# SVM (Support Vector Machine)\n",
    "# -------------------\n",
    "clf_svm = SVC(random_state=0)\n",
    "clf_svm.fit(X_train, y_train)\n",
    "pred_svm = clf_svm.predict(X_test)\n",
    "\n",
    "print(\"\\n--- SVM Classifier ---\")\n",
    "print(f\"Accuracy: {accuracy_score(y_test, pred_svm):.4f}\")\n",
    "print(\"Confusion Matrix:\")\n",
    "print(confusion_matrix(y_test, pred_svm))"
   ]
  },
  {
   "cell_type": "code",
   "execution_count": 26,
   "id": "841cb947-cae1-4e6b-9047-f7d239e10f19",
   "metadata": {},
   "outputs": [
    {
     "name": "stdout",
     "output_type": "stream",
     "text": [
      "\n",
      "--- Logistic Regression Classifier ---\n",
      "Accuracy: 0.8293\n",
      "Confusion Matrix:\n",
      "[[ 5  3]\n",
      " [ 4 29]]\n"
     ]
    }
   ],
   "source": [
    "# -------------------\n",
    "# Logistic Regression\n",
    "# -------------------\n",
    "clf_lr = LogisticRegression(random_state=0, max_iter=1000)\n",
    "clf_lr.fit(X_train, y_train)\n",
    "pred_lr = clf_lr.predict(X_test)\n",
    "\n",
    "print(\"\\n--- Logistic Regression Classifier ---\")\n",
    "print(f\"Accuracy: {accuracy_score(y_test, pred_lr):.4f}\")\n",
    "print(\"Confusion Matrix:\")\n",
    "print(confusion_matrix(y_test, pred_lr))"
   ]
  },
  {
   "cell_type": "code",
   "execution_count": 28,
   "id": "ed7d8728-0eaf-40e6-9ae6-73ebe36c8c46",
   "metadata": {},
   "outputs": [
    {
     "name": "stdout",
     "output_type": "stream",
     "text": [
      "\n",
      "--- Decision Tree Classifier ---\n",
      "Accuracy: 0.9268\n",
      "Confusion Matrix:\n",
      "[[ 7  1]\n",
      " [ 2 31]]\n"
     ]
    }
   ],
   "source": [
    "# -------------------\n",
    "# Decision Tree\n",
    "# -------------------\n",
    "clf_dt = DecisionTreeClassifier(random_state=0)\n",
    "clf_dt.fit(X_train, y_train)\n",
    "pred_dt = clf_dt.predict(X_test)\n",
    "\n",
    "print(\"\\n--- Decision Tree Classifier ---\")\n",
    "print(f\"Accuracy: {accuracy_score(y_test, pred_dt):.4f}\")\n",
    "print(\"Confusion Matrix:\")\n",
    "print(confusion_matrix(y_test, pred_dt))"
   ]
  },
  {
   "cell_type": "code",
   "execution_count": 30,
   "id": "cd4ede3c-eea1-4ae3-bc35-24a85ed76e96",
   "metadata": {},
   "outputs": [
    {
     "name": "stdout",
     "output_type": "stream",
     "text": [
      "\n",
      "--- Random Forest Classifier ---\n",
      "Accuracy: 0.8049\n",
      "Confusion Matrix:\n",
      "[[ 6  2]\n",
      " [ 6 27]]\n"
     ]
    }
   ],
   "source": [
    "# -------------------\n",
    "# Random Forest\n",
    "# -------------------\n",
    "clf_rf = RandomForestClassifier(random_state=0)\n",
    "clf_rf.fit(X_train, y_train)\n",
    "pred_rf = clf_rf.predict(X_test)\n",
    "\n",
    "print(\"\\n--- Random Forest Classifier ---\")\n",
    "print(f\"Accuracy: {accuracy_score(y_test, pred_rf):.4f}\")\n",
    "print(\"Confusion Matrix:\")\n",
    "print(confusion_matrix(y_test, pred_rf))"
   ]
  },
  {
   "cell_type": "code",
   "execution_count": 32,
   "id": "7ec02824-2304-42f8-895d-2b173bea88ac",
   "metadata": {},
   "outputs": [
    {
     "name": "stdout",
     "output_type": "stream",
     "text": [
      "\n",
      "--- KNN Classifier ---\n",
      "Accuracy: 0.7805\n",
      "Confusion Matrix:\n",
      "[[ 2  6]\n",
      " [ 3 30]]\n"
     ]
    }
   ],
   "source": [
    "# -------------------\n",
    "# K-Nearest Neighbors (KNN)\n",
    "# -------------------\n",
    "clf_knn = KNeighborsClassifier()\n",
    "clf_knn.fit(X_train, y_train)\n",
    "pred_knn = clf_knn.predict(X_test)\n",
    "\n",
    "print(\"\\n--- KNN Classifier ---\")\n",
    "print(f\"Accuracy: {accuracy_score(y_test, pred_knn):.4f}\")\n",
    "print(\"Confusion Matrix:\")\n",
    "print(confusion_matrix(y_test, pred_knn))"
   ]
  }
 ],
 "metadata": {
  "kernelspec": {
   "display_name": "Python [conda env:base] *",
   "language": "python",
   "name": "conda-base-py"
  },
  "language_info": {
   "codemirror_mode": {
    "name": "ipython",
    "version": 3
   },
   "file_extension": ".py",
   "mimetype": "text/x-python",
   "name": "python",
   "nbconvert_exporter": "python",
   "pygments_lexer": "ipython3",
   "version": "3.12.7"
  }
 },
 "nbformat": 4,
 "nbformat_minor": 5
}
